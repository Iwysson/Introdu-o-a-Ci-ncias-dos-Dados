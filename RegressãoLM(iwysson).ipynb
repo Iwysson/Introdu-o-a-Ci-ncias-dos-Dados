{
 "cells": [
  {
   "cell_type": "code",
   "execution_count": 2,
   "id": "07e8599a",
   "metadata": {},
   "outputs": [
    {
     "name": "stdout",
     "output_type": "stream",
     "text": [
      "Requirement already satisfied: numpy in c:\\users\\igor nascimento\\appdata\\local\\programs\\python\\python39\\lib\\site-packages (1.20.3)\n",
      "Requirement already satisfied: pandas in c:\\users\\igor nascimento\\appdata\\local\\programs\\python\\python39\\lib\\site-packages (1.3.2)\n",
      "Requirement already satisfied: scipy in c:\\users\\igor nascimento\\appdata\\local\\programs\\python\\python39\\lib\\site-packages (1.7.1)\n",
      "Requirement already satisfied: matplotlib in c:\\users\\igor nascimento\\appdata\\local\\programs\\python\\python39\\lib\\site-packages (3.4.2)\n",
      "Requirement already satisfied: statsmodels in c:\\users\\igor nascimento\\appdata\\local\\programs\\python\\python39\\lib\\site-packages (0.13.0)\n",
      "Requirement already satisfied: seaborn in c:\\users\\igor nascimento\\appdata\\local\\programs\\python\\python39\\lib\\site-packages (0.11.2)\n",
      "Requirement already satisfied: sympy in c:\\users\\igor nascimento\\appdata\\local\\programs\\python\\python39\\lib\\site-packages (1.9)\n",
      "Requirement already satisfied: nose in c:\\users\\igor nascimento\\appdata\\local\\programs\\python\\python39\\lib\\site-packages (1.3.7)\n",
      "Requirement already satisfied: pytz>=2017.3 in c:\\users\\igor nascimento\\appdata\\local\\programs\\python\\python39\\lib\\site-packages (from pandas) (2021.1)\n",
      "Requirement already satisfied: python-dateutil>=2.7.3 in c:\\users\\igor nascimento\\appdata\\local\\programs\\python\\python39\\lib\\site-packages (from pandas) (2.8.1)\n",
      "Requirement already satisfied: pillow>=6.2.0 in c:\\users\\igor nascimento\\appdata\\local\\programs\\python\\python39\\lib\\site-packages (from matplotlib) (8.2.0)\n",
      "Requirement already satisfied: cycler>=0.10 in c:\\users\\igor nascimento\\appdata\\local\\programs\\python\\python39\\lib\\site-packages (from matplotlib) (0.10.0)\n",
      "Requirement already satisfied: pyparsing>=2.2.1 in c:\\users\\igor nascimento\\appdata\\local\\programs\\python\\python39\\lib\\site-packages (from matplotlib) (2.4.7)\n",
      "Requirement already satisfied: kiwisolver>=1.0.1 in c:\\users\\igor nascimento\\appdata\\local\\programs\\python\\python39\\lib\\site-packages (from matplotlib) (1.3.1)\n",
      "Requirement already satisfied: patsy>=0.5.2 in c:\\users\\igor nascimento\\appdata\\local\\programs\\python\\python39\\lib\\site-packages (from statsmodels) (0.5.2)\n",
      "Requirement already satisfied: mpmath>=0.19 in c:\\users\\igor nascimento\\appdata\\local\\programs\\python\\python39\\lib\\site-packages (from sympy) (1.2.1)\n",
      "Requirement already satisfied: six in c:\\users\\igor nascimento\\appdata\\local\\programs\\python\\python39\\lib\\site-packages (from cycler>=0.10->matplotlib) (1.16.0)\n"
     ]
    },
    {
     "name": "stderr",
     "output_type": "stream",
     "text": [
      "WARNING: You are using pip version 21.2.3; however, version 21.3.1 is available.\n",
      "You should consider upgrading via the 'C:\\Users\\Igor Nascimento\\AppData\\Local\\Programs\\Python\\Python39\\python.exe -m pip install --upgrade pip' command.\n"
     ]
    }
   ],
   "source": [
    "#Instalação dos pacotes necessários e utilitários\n",
    "\n",
    "!pip install numpy pandas scipy matplotlib statsmodels seaborn sympy nose"
   ]
  },
  {
   "cell_type": "code",
   "execution_count": 10,
   "id": "59edc036",
   "metadata": {},
   "outputs": [],
   "source": [
    "import numpy as np\n",
    "import pandas as pd\n",
    "import seaborn as sns\n",
    "sns.regplot\n",
    "import io\n",
    "import matplotlib.pyplot as plt\n",
    "import statsmodels.api as sm\n",
    "from   sklearn.linear_model import LinearRegression\n",
    "from sklearn.metrics import mean_squared_error\n",
    "import os\n",
    "from sklearn.model_selection import train_test_split#\n",
    "import seaborn as seabornInstance\n",
    "%matplotlib inline \n"
   ]
  },
  {
   "cell_type": "code",
   "execution_count": null,
   "id": "6209791e",
   "metadata": {},
   "outputs": [],
   "source": []
  },
  {
   "cell_type": "code",
   "execution_count": 4,
   "id": "86e612e9",
   "metadata": {},
   "outputs": [
    {
     "data": {
      "text/plain": [
       "Iy     float64\n",
       "PF     float64\n",
       "e      float64\n",
       "dIf    float64\n",
       "If     float64\n",
       "dtype: object"
      ]
     },
     "execution_count": 4,
     "metadata": {},
     "output_type": "execute_result"
    }
   ],
   "source": [
    "#carregar o arquivo csv \n",
    "#por convencao chamamos dataframe de df \n",
    "#df = pd.read_csv('................ , sep =';' , encoding = cp1252) ; separador e enconding , usecols =[...]\n",
    "df = pd.read_csv('synchronous machine.csv', sep = ';', decimal=',')\n",
    "df.dtypes"
   ]
  },
  {
   "cell_type": "code",
   "execution_count": 6,
   "id": "fa558f92",
   "metadata": {},
   "outputs": [
    {
     "data": {
      "text/html": [
       "<div>\n",
       "<style scoped>\n",
       "    .dataframe tbody tr th:only-of-type {\n",
       "        vertical-align: middle;\n",
       "    }\n",
       "\n",
       "    .dataframe tbody tr th {\n",
       "        vertical-align: top;\n",
       "    }\n",
       "\n",
       "    .dataframe thead th {\n",
       "        text-align: right;\n",
       "    }\n",
       "</style>\n",
       "<table border=\"1\" class=\"dataframe\">\n",
       "  <thead>\n",
       "    <tr style=\"text-align: right;\">\n",
       "      <th></th>\n",
       "      <th>Iy</th>\n",
       "      <th>PF</th>\n",
       "      <th>e</th>\n",
       "      <th>dIf</th>\n",
       "      <th>If</th>\n",
       "    </tr>\n",
       "  </thead>\n",
       "  <tbody>\n",
       "    <tr>\n",
       "      <th>0</th>\n",
       "      <td>3.0</td>\n",
       "      <td>0.66</td>\n",
       "      <td>0.34</td>\n",
       "      <td>0.383</td>\n",
       "      <td>1.563</td>\n",
       "    </tr>\n",
       "    <tr>\n",
       "      <th>1</th>\n",
       "      <td>3.0</td>\n",
       "      <td>0.68</td>\n",
       "      <td>0.32</td>\n",
       "      <td>0.372</td>\n",
       "      <td>1.552</td>\n",
       "    </tr>\n",
       "    <tr>\n",
       "      <th>2</th>\n",
       "      <td>3.0</td>\n",
       "      <td>0.70</td>\n",
       "      <td>0.30</td>\n",
       "      <td>0.360</td>\n",
       "      <td>1.540</td>\n",
       "    </tr>\n",
       "    <tr>\n",
       "      <th>3</th>\n",
       "      <td>3.0</td>\n",
       "      <td>0.72</td>\n",
       "      <td>0.28</td>\n",
       "      <td>0.338</td>\n",
       "      <td>1.518</td>\n",
       "    </tr>\n",
       "    <tr>\n",
       "      <th>4</th>\n",
       "      <td>3.0</td>\n",
       "      <td>0.74</td>\n",
       "      <td>0.26</td>\n",
       "      <td>0.317</td>\n",
       "      <td>1.497</td>\n",
       "    </tr>\n",
       "  </tbody>\n",
       "</table>\n",
       "</div>"
      ],
      "text/plain": [
       "    Iy    PF     e    dIf     If\n",
       "0  3.0  0.66  0.34  0.383  1.563\n",
       "1  3.0  0.68  0.32  0.372  1.552\n",
       "2  3.0  0.70  0.30  0.360  1.540\n",
       "3  3.0  0.72  0.28  0.338  1.518\n",
       "4  3.0  0.74  0.26  0.317  1.497"
      ]
     },
     "execution_count": 6,
     "metadata": {},
     "output_type": "execute_result"
    }
   ],
   "source": [
    "df.head() #mostra as 5 primeiras linhas do arquivo\n",
    "#df.shape"
   ]
  },
  {
   "cell_type": "markdown",
   "id": "b9e9b6d0",
   "metadata": {},
   "source": [
    "Informação de Atributo:\n",
    "\n",
    "Iy (Corrente de carga) PF (Fator de potência) e (Erro do fator de potência) dIf (Mudança da corrente de excitação da máquina síncrona) If (Corrente de excitação da máquina síncrona)"
   ]
  },
  {
   "cell_type": "code",
   "execution_count": 8,
   "id": "5fe049f7",
   "metadata": {},
   "outputs": [],
   "source": [
    "X = df[['Iy','PF','e','dIf']].values\n",
    "y = df['If'].values"
   ]
  },
  {
   "cell_type": "code",
   "execution_count": 11,
   "id": "144d53c1",
   "metadata": {},
   "outputs": [
    {
     "name": "stdout",
     "output_type": "stream",
     "text": [
      "(445, 4) (112, 4) (445,) (112,)\n"
     ]
    },
    {
     "data": {
      "text/plain": [
       "LinearRegression()"
      ]
     },
     "execution_count": 11,
     "metadata": {},
     "output_type": "execute_result"
    }
   ],
   "source": [
    "X_train,X_test,y_train,y_test=train_test_split(X,y,test_size=0.2, random_state=0)\n",
    "\n",
    "#Print das dimensões dos conjuntos\n",
    "print(X_train.shape,X_test.shape,y_train.shape,y_test.shape)\n",
    "\n",
    "# regressão linear multipla, treinamento do modelo\n",
    "linear_reg=LinearRegression()\n",
    "linear_reg.fit(X_train,y_train)"
   ]
  },
  {
   "cell_type": "code",
   "execution_count": 12,
   "id": "69ed6889",
   "metadata": {},
   "outputs": [
    {
     "name": "stdout",
     "output_type": "stream",
     "text": [
      "termo constante: β0 = 1.1947215645120717\n",
      "coeficiente β_i = [-4.50648443e-17 -1.47215645e-02 -1.47215645e-02  1.00000000e+00]\n"
     ]
    },
    {
     "data": {
      "text/html": [
       "<div>\n",
       "<style scoped>\n",
       "    .dataframe tbody tr th:only-of-type {\n",
       "        vertical-align: middle;\n",
       "    }\n",
       "\n",
       "    .dataframe tbody tr th {\n",
       "        vertical-align: top;\n",
       "    }\n",
       "\n",
       "    .dataframe thead th {\n",
       "        text-align: right;\n",
       "    }\n",
       "</style>\n",
       "<table border=\"1\" class=\"dataframe\">\n",
       "  <thead>\n",
       "    <tr style=\"text-align: right;\">\n",
       "      <th></th>\n",
       "      <th>Atual</th>\n",
       "      <th>Predicão</th>\n",
       "    </tr>\n",
       "  </thead>\n",
       "  <tbody>\n",
       "    <tr>\n",
       "      <th>0</th>\n",
       "      <td>1.616</td>\n",
       "      <td>1.616</td>\n",
       "    </tr>\n",
       "    <tr>\n",
       "      <th>1</th>\n",
       "      <td>1.771</td>\n",
       "      <td>1.771</td>\n",
       "    </tr>\n",
       "    <tr>\n",
       "      <th>2</th>\n",
       "      <td>1.610</td>\n",
       "      <td>1.610</td>\n",
       "    </tr>\n",
       "    <tr>\n",
       "      <th>3</th>\n",
       "      <td>1.440</td>\n",
       "      <td>1.440</td>\n",
       "    </tr>\n",
       "    <tr>\n",
       "      <th>4</th>\n",
       "      <td>1.575</td>\n",
       "      <td>1.575</td>\n",
       "    </tr>\n",
       "  </tbody>\n",
       "</table>\n",
       "</div>"
      ],
      "text/plain": [
       "   Atual  Predicão\n",
       "0  1.616     1.616\n",
       "1  1.771     1.771\n",
       "2  1.610     1.610\n",
       "3  1.440     1.440\n",
       "4  1.575     1.575"
      ]
     },
     "execution_count": 12,
     "metadata": {},
     "output_type": "execute_result"
    }
   ],
   "source": [
    "# Print dos coeficientes do modelo.\n",
    "\n",
    "print('termo constante: β0 =', linear_reg.intercept_)\n",
    "print('coeficiente β_i =',linear_reg.coef_)\n",
    "\n",
    "y_pred=linear_reg.predict(X_test)\n",
    "\n",
    "df1 =pd.DataFrame({'Atual':y_test.flatten(), 'Predicão':y_pred.flatten()})\n",
    "\n",
    "df1.head()"
   ]
  },
  {
   "cell_type": "code",
   "execution_count": 13,
   "id": "5dadced1",
   "metadata": {},
   "outputs": [
    {
     "name": "stdout",
     "output_type": "stream",
     "text": [
      "SSE =  4.446146843042533e-32\n",
      "SSR =  0.034155009885204146\n",
      "SST =  0.034155009885204146\n",
      " R^2 =  1.0\n"
     ]
    }
   ],
   "source": [
    "# SSE  = Sum(y_true - y_pred)**2\n",
    "SSE = mean_squared_error(y_test, y_pred)\n",
    "print('SSE = ', SSE)\n",
    "\n",
    "# método auxiliar para calcular o SSR\n",
    "#SSR  = Sum(y_pred - y_med)**2\n",
    "\n",
    "aux_med = np.zeros(len(y_test)) +y_test.mean()\n",
    "\n",
    "\n",
    "SSR = mean_squared_error(y_pred, aux_med)\n",
    "\n",
    "#SST = SSR + SSE \n",
    "\n",
    "SST = SSR + SSE\n",
    "\n",
    "print('SSR = ',SST)\n",
    "print('SST = ',SST)\n",
    "\n",
    "R2 = SSR/SST\n",
    "\n",
    "print(' R^2 = ',R2)"
   ]
  },
  {
   "cell_type": "code",
   "execution_count": 15,
   "id": "aa49b156",
   "metadata": {},
   "outputs": [
    {
     "name": "stdout",
     "output_type": "stream",
     "text": [
      "                            OLS Regression Results                            \n",
      "==============================================================================\n",
      "Dep. Variable:                      y   R-squared:                       1.000\n",
      "Model:                            OLS   Adj. R-squared:                  1.000\n",
      "Method:                 Least Squares   F-statistic:                 2.087e+30\n",
      "Date:                Sat, 23 Oct 2021   Prob (F-statistic):               0.00\n",
      "Time:                        09:39:18   Log-Likelihood:                 18154.\n",
      "No. Observations:                 557   AIC:                        -3.630e+04\n",
      "Df Residuals:                     553   BIC:                        -3.628e+04\n",
      "Df Model:                           3                                         \n",
      "Covariance Type:            nonrobust                                         \n",
      "==============================================================================\n",
      "                 coef    std err          t      P>|t|      [0.025      0.975]\n",
      "------------------------------------------------------------------------------\n",
      "const          0.7867   4.86e-16   1.62e+15      0.000       0.787       0.787\n",
      "x1          -7.98e-16   1.25e-16     -6.366      0.000   -1.04e-15   -5.52e-16\n",
      "x2             0.3933   7.62e-16   5.16e+14      0.000       0.393       0.393\n",
      "x3             0.3933   1.18e-15   3.34e+14      0.000       0.393       0.393\n",
      "x4             1.0000   1.22e-15   8.18e+14      0.000       1.000       1.000\n",
      "==============================================================================\n",
      "Omnibus:                       19.913   Durbin-Watson:                   0.067\n",
      "Prob(Omnibus):                  0.000   Jarque-Bera (JB):                9.958\n",
      "Skew:                           0.096   Prob(JB):                      0.00688\n",
      "Kurtosis:                       2.374   Cond. No.                     1.73e+17\n",
      "==============================================================================\n",
      "\n",
      "Notes:\n",
      "[1] Standard Errors assume that the covariance matrix of the errors is correctly specified.\n",
      "[2] The smallest eigenvalue is 4.24e-31. This might indicate that there are\n",
      "strong multicollinearity problems or that the design matrix is singular.\n"
     ]
    }
   ],
   "source": [
    "X_2 = sm.add_constant(X)\n",
    "est = sm.OLS(y, X_2)\n",
    "est2 = est.fit()\n",
    "print(est2.summary())"
   ]
  },
  {
   "cell_type": "code",
   "execution_count": 21,
   "id": "a1347e45",
   "metadata": {},
   "outputs": [],
   "source": [
    "X2_normal = df[['Iy','PF','e']].values\n",
    "y2_normal = df['If'].values"
   ]
  },
  {
   "cell_type": "code",
   "execution_count": 22,
   "id": "20cbbcc3",
   "metadata": {},
   "outputs": [
    {
     "name": "stdout",
     "output_type": "stream",
     "text": [
      "(445, 3) (112, 3) (445,) (112,)\n"
     ]
    },
    {
     "data": {
      "text/plain": [
       "LinearRegression()"
      ]
     },
     "execution_count": 22,
     "metadata": {},
     "output_type": "execute_result"
    }
   ],
   "source": [
    "#Tratamento dos dados, separação do novo dataset em conjunto de treinamento e conjunto de testes\n",
    "\n",
    "X2_normal_train,X2_normal_test,y2_normal_train,y2_normal_test=train_test_split(X2_normal,y2_normal,test_size=0.2, random_state=0)\n",
    "\n",
    "#Print das dimensões dos conjuntos\n",
    "print(X2_normal_train.shape,X2_normal_test.shape,y2_normal_train.shape,y2_normal_test.shape)\n",
    "\n",
    "# regressão linear multipla, treinamento do modelo\n",
    "linear_reg3=LinearRegression()\n",
    "linear_reg3.fit(X2_normal_train,y2_normal_train)"
   ]
  },
  {
   "cell_type": "code",
   "execution_count": 23,
   "id": "d57e448d",
   "metadata": {},
   "outputs": [
    {
     "name": "stdout",
     "output_type": "stream",
     "text": [
      "termo constante: β0 = 4159153496596.659\n",
      "coeficiente β_i = [ 7.58541041e-02 -4.15915350e+12 -4.15915350e+12]\n"
     ]
    },
    {
     "data": {
      "text/html": [
       "<div>\n",
       "<style scoped>\n",
       "    .dataframe tbody tr th:only-of-type {\n",
       "        vertical-align: middle;\n",
       "    }\n",
       "\n",
       "    .dataframe tbody tr th {\n",
       "        vertical-align: top;\n",
       "    }\n",
       "\n",
       "    .dataframe thead th {\n",
       "        text-align: right;\n",
       "    }\n",
       "</style>\n",
       "<table border=\"1\" class=\"dataframe\">\n",
       "  <thead>\n",
       "    <tr style=\"text-align: right;\">\n",
       "      <th></th>\n",
       "      <th>Atual</th>\n",
       "      <th>Predicão</th>\n",
       "    </tr>\n",
       "  </thead>\n",
       "  <tbody>\n",
       "    <tr>\n",
       "      <th>0</th>\n",
       "      <td>1.616</td>\n",
       "      <td>1.597656</td>\n",
       "    </tr>\n",
       "    <tr>\n",
       "      <th>1</th>\n",
       "      <td>1.771</td>\n",
       "      <td>1.674805</td>\n",
       "    </tr>\n",
       "    <tr>\n",
       "      <th>2</th>\n",
       "      <td>1.610</td>\n",
       "      <td>1.737305</td>\n",
       "    </tr>\n",
       "    <tr>\n",
       "      <th>3</th>\n",
       "      <td>1.440</td>\n",
       "      <td>1.467285</td>\n",
       "    </tr>\n",
       "    <tr>\n",
       "      <th>4</th>\n",
       "      <td>1.575</td>\n",
       "      <td>1.520508</td>\n",
       "    </tr>\n",
       "  </tbody>\n",
       "</table>\n",
       "</div>"
      ],
      "text/plain": [
       "   Atual  Predicão\n",
       "0  1.616  1.597656\n",
       "1  1.771  1.674805\n",
       "2  1.610  1.737305\n",
       "3  1.440  1.467285\n",
       "4  1.575  1.520508"
      ]
     },
     "execution_count": 23,
     "metadata": {},
     "output_type": "execute_result"
    }
   ],
   "source": [
    "print('termo constante: β0 =', linear_reg3.intercept_)\n",
    "print('coeficiente β_i =',linear_reg3.coef_)\n",
    "\n",
    "y2_normal_pred=linear_reg3.predict(X2_normal_test)\n",
    "\n",
    "ds3 =pd.DataFrame({'Atual':y2_normal_test.flatten(), 'Predicão':y2_normal_pred.flatten()})\n",
    "\n",
    "ds3.head()"
   ]
  },
  {
   "cell_type": "code",
   "execution_count": 24,
   "id": "aa91ce8b",
   "metadata": {},
   "outputs": [
    {
     "name": "stdout",
     "output_type": "stream",
     "text": [
      "SSE =  4.446146843042533e-32\n",
      "SSR =  0.03438297901916504\n",
      "SST =  0.03438297901916504\n",
      "R2_ajustado =  0.8983399036248119\n",
      "\n"
     ]
    }
   ],
   "source": [
    "# SSE  = Sum(y_true - y_pred)**2\n",
    "#SSE ajustado\n",
    "SSE_ajustado = mean_squared_error(y2_normal_test, y2_normal_pred)\n",
    "print('SSE = ', SSE)\n",
    "\n",
    "# método auxiliar para calcular o SSR\n",
    "#SSR  = Sum(y_pred - y_med)**2\n",
    "\n",
    "aux2_med = np.zeros(len(y2_normal_test)) +y2_normal_test.mean()\n",
    "\n",
    "SSR_ajustado = mean_squared_error(y2_normal_pred, aux2_med)\n",
    "\n",
    "#SST ajustado\n",
    "#SST = SSR + SSE \n",
    "\n",
    "SST_ajustado = SSR_ajustado + SSE_ajustado\n",
    "\n",
    "print('SSR = ',SST_ajustado)\n",
    "print('SST = ',SST_ajustado)\n",
    "\n",
    "#R2 ajustado\n",
    "\n",
    "R2_ajustado = SSR_ajustado/SST_ajustado\n",
    "\n",
    "print('R2_ajustado = ',R2_ajustado)\n",
    "\n",
    "print()"
   ]
  },
  {
   "cell_type": "code",
   "execution_count": 25,
   "id": "e88b389d",
   "metadata": {},
   "outputs": [
    {
     "name": "stdout",
     "output_type": "stream",
     "text": [
      "R2 é igual ao R2 ajustado? R =  False\n"
     ]
    }
   ],
   "source": [
    "print('R2 é igual ao R2 ajustado? R = ',R2_ajustado == R2)"
   ]
  },
  {
   "cell_type": "code",
   "execution_count": 27,
   "id": "8ba2d8d9",
   "metadata": {},
   "outputs": [
    {
     "name": "stdout",
     "output_type": "stream",
     "text": [
      "                            OLS Regression Results                            \n",
      "==============================================================================\n",
      "Dep. Variable:                      y   R-squared:                       0.893\n",
      "Model:                            OLS   Adj. R-squared:                  0.893\n",
      "Method:                 Least Squares   F-statistic:                     2313.\n",
      "Date:                Sat, 23 Oct 2021   Prob (F-statistic):          1.23e-269\n",
      "Time:                        09:43:09   Log-Likelihood:                 786.09\n",
      "No. Observations:                 557   AIC:                            -1566.\n",
      "Df Residuals:                     554   BIC:                            -1553.\n",
      "Df Model:                           2                                         \n",
      "Covariance Type:            nonrobust                                         \n",
      "==============================================================================\n",
      "                 coef    std err          t      P>|t|      [0.025      0.975]\n",
      "------------------------------------------------------------------------------\n",
      "const          1.1031      0.010    107.861      0.000       1.083       1.123\n",
      "x1             0.0786      0.003     28.031      0.000       0.073       0.084\n",
      "x2            -0.1824      0.010    -17.833      0.000      -0.202      -0.162\n",
      "x3             1.2855      0.015     83.040      0.000       1.255       1.316\n",
      "==============================================================================\n",
      "Omnibus:                        3.341   Durbin-Watson:                   1.134\n",
      "Prob(Omnibus):                  0.188   Jarque-Bera (JB):                3.203\n",
      "Skew:                          -0.183   Prob(JB):                        0.202\n",
      "Kurtosis:                       3.059   Cond. No.                     1.96e+16\n",
      "==============================================================================\n",
      "\n",
      "Notes:\n",
      "[1] Standard Errors assume that the covariance matrix of the errors is correctly specified.\n",
      "[2] The smallest eigenvalue is 3.29e-29. This might indicate that there are\n",
      "strong multicollinearity problems or that the design matrix is singular.\n"
     ]
    }
   ],
   "source": [
    "# Print do sumário com as informações dos valores obtidos pela regressão linear multipla\n",
    "\n",
    "X3 = sm.add_constant(X2_normal)\n",
    "est11 = sm.OLS(y2_normal, X3)\n",
    "est22 = est11.fit()\n",
    "print(est22.summary())"
   ]
  },
  {
   "cell_type": "code",
   "execution_count": null,
   "id": "c8a9cd25",
   "metadata": {},
   "outputs": [],
   "source": []
  }
 ],
 "metadata": {
  "kernelspec": {
   "display_name": "Python 3",
   "language": "python",
   "name": "python3"
  },
  "language_info": {
   "codemirror_mode": {
    "name": "ipython",
    "version": 3
   },
   "file_extension": ".py",
   "mimetype": "text/x-python",
   "name": "python",
   "nbconvert_exporter": "python",
   "pygments_lexer": "ipython3",
   "version": "3.9.7"
  }
 },
 "nbformat": 4,
 "nbformat_minor": 5
}
