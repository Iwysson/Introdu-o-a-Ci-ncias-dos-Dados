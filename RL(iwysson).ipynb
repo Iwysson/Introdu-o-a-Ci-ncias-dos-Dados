{
 "cells": [
  {
   "cell_type": "code",
   "execution_count": 14,
   "id": "f24f9cfe",
   "metadata": {},
   "outputs": [
    {
     "name": "stdout",
     "output_type": "stream",
     "text": [
      "Requirement already satisfied: sklearn in c:\\users\\igor nascimento\\appdata\\local\\programs\\python\\python39\\lib\\site-packages (0.0)\n",
      "Collecting statsmodels\n"
     ]
    },
    {
     "name": "stderr",
     "output_type": "stream",
     "text": [
      "WARNING: You are using pip version 21.2.3; however, version 21.2.4 is available.\n",
      "You should consider upgrading via the 'C:\\Users\\Igor Nascimento\\AppData\\Local\\Programs\\Python\\Python39\\python.exe -m pip install --upgrade pip' command.\n"
     ]
    },
    {
     "name": "stdout",
     "output_type": "stream",
     "text": [
      "  Downloading statsmodels-0.13.0-cp39-none-win_amd64.whl (9.4 MB)\n",
      "Requirement already satisfied: scikit-learn in c:\\users\\igor nascimento\\appdata\\local\\programs\\python\\python39\\lib\\site-packages (from sklearn) (1.0)\n",
      "Requirement already satisfied: numpy>=1.17 in c:\\users\\igor nascimento\\appdata\\local\\programs\\python\\python39\\lib\\site-packages (from statsmodels) (1.20.3)\n",
      "Requirement already satisfied: pandas>=0.25 in c:\\users\\igor nascimento\\appdata\\local\\programs\\python\\python39\\lib\\site-packages (from statsmodels) (1.3.2)\n",
      "Collecting patsy>=0.5.2\n",
      "  Downloading patsy-0.5.2-py2.py3-none-any.whl (233 kB)\n",
      "Requirement already satisfied: scipy>=1.3 in c:\\users\\igor nascimento\\appdata\\local\\programs\\python\\python39\\lib\\site-packages (from statsmodels) (1.7.1)\n",
      "Requirement already satisfied: pytz>=2017.3 in c:\\users\\igor nascimento\\appdata\\local\\programs\\python\\python39\\lib\\site-packages (from pandas>=0.25->statsmodels) (2021.1)\n",
      "Requirement already satisfied: python-dateutil>=2.7.3 in c:\\users\\igor nascimento\\appdata\\local\\programs\\python\\python39\\lib\\site-packages (from pandas>=0.25->statsmodels) (2.8.1)\n",
      "Requirement already satisfied: six in c:\\users\\igor nascimento\\appdata\\local\\programs\\python\\python39\\lib\\site-packages (from patsy>=0.5.2->statsmodels) (1.16.0)\n",
      "Requirement already satisfied: threadpoolctl>=2.0.0 in c:\\users\\igor nascimento\\appdata\\local\\programs\\python\\python39\\lib\\site-packages (from scikit-learn->sklearn) (3.0.0)\n",
      "Requirement already satisfied: joblib>=0.11 in c:\\users\\igor nascimento\\appdata\\local\\programs\\python\\python39\\lib\\site-packages (from scikit-learn->sklearn) (1.1.0)\n",
      "Installing collected packages: patsy, statsmodels\n",
      "Successfully installed patsy-0.5.2 statsmodels-0.13.0\n"
     ]
    }
   ],
   "source": [
    "!pip install sklearn statsmodels"
   ]
  },
  {
   "cell_type": "code",
   "execution_count": 1,
   "id": "59e3b461",
   "metadata": {},
   "outputs": [],
   "source": [
    "import pandas as pd\n",
    "from sklearn.linear_model import LinearRegression\n",
    "import matplotlib.pyplot as plt\n",
    "import statsmodels.api as sm"
   ]
  },
  {
   "cell_type": "code",
   "execution_count": 2,
   "id": "502a5571",
   "metadata": {},
   "outputs": [
    {
     "data": {
      "text/plain": [
       "Iy     float64\n",
       "PF     float64\n",
       "e      float64\n",
       "dIf    float64\n",
       "If     float64\n",
       "dtype: object"
      ]
     },
     "execution_count": 2,
     "metadata": {},
     "output_type": "execute_result"
    }
   ],
   "source": [
    "#carregar o arquivo csv \n",
    "#por convencao chamamos dataframe de df \n",
    "#df = pd.read_csv('................ , sep =';' , encoding = cp1252) ; separador e enconding , usecols =[...]\n",
    "df = pd.read_csv('synchronous machine.csv', sep = ';', decimal=',')\n",
    "df.dtypes\n",
    "\n"
   ]
  },
  {
   "cell_type": "code",
   "execution_count": 3,
   "id": "b20cb4ff",
   "metadata": {},
   "outputs": [
    {
     "data": {
      "text/html": [
       "<div>\n",
       "<style scoped>\n",
       "    .dataframe tbody tr th:only-of-type {\n",
       "        vertical-align: middle;\n",
       "    }\n",
       "\n",
       "    .dataframe tbody tr th {\n",
       "        vertical-align: top;\n",
       "    }\n",
       "\n",
       "    .dataframe thead th {\n",
       "        text-align: right;\n",
       "    }\n",
       "</style>\n",
       "<table border=\"1\" class=\"dataframe\">\n",
       "  <thead>\n",
       "    <tr style=\"text-align: right;\">\n",
       "      <th></th>\n",
       "      <th>Iy</th>\n",
       "      <th>PF</th>\n",
       "      <th>e</th>\n",
       "      <th>dIf</th>\n",
       "      <th>If</th>\n",
       "    </tr>\n",
       "  </thead>\n",
       "  <tbody>\n",
       "    <tr>\n",
       "      <th>0</th>\n",
       "      <td>3.0</td>\n",
       "      <td>0.66</td>\n",
       "      <td>0.34</td>\n",
       "      <td>0.383</td>\n",
       "      <td>1.563</td>\n",
       "    </tr>\n",
       "    <tr>\n",
       "      <th>1</th>\n",
       "      <td>3.0</td>\n",
       "      <td>0.68</td>\n",
       "      <td>0.32</td>\n",
       "      <td>0.372</td>\n",
       "      <td>1.552</td>\n",
       "    </tr>\n",
       "    <tr>\n",
       "      <th>2</th>\n",
       "      <td>3.0</td>\n",
       "      <td>0.70</td>\n",
       "      <td>0.30</td>\n",
       "      <td>0.360</td>\n",
       "      <td>1.540</td>\n",
       "    </tr>\n",
       "    <tr>\n",
       "      <th>3</th>\n",
       "      <td>3.0</td>\n",
       "      <td>0.72</td>\n",
       "      <td>0.28</td>\n",
       "      <td>0.338</td>\n",
       "      <td>1.518</td>\n",
       "    </tr>\n",
       "    <tr>\n",
       "      <th>4</th>\n",
       "      <td>3.0</td>\n",
       "      <td>0.74</td>\n",
       "      <td>0.26</td>\n",
       "      <td>0.317</td>\n",
       "      <td>1.497</td>\n",
       "    </tr>\n",
       "  </tbody>\n",
       "</table>\n",
       "</div>"
      ],
      "text/plain": [
       "    Iy    PF     e    dIf     If\n",
       "0  3.0  0.66  0.34  0.383  1.563\n",
       "1  3.0  0.68  0.32  0.372  1.552\n",
       "2  3.0  0.70  0.30  0.360  1.540\n",
       "3  3.0  0.72  0.28  0.338  1.518\n",
       "4  3.0  0.74  0.26  0.317  1.497"
      ]
     },
     "execution_count": 3,
     "metadata": {},
     "output_type": "execute_result"
    }
   ],
   "source": [
    "df.head() #mostra as 5 primeiras linhas do arquivo\n",
    "#df.shape"
   ]
  },
  {
   "cell_type": "markdown",
   "id": "70b4a8e6",
   "metadata": {},
   "source": [
    "Informação de Atributo:\n",
    "\n",
    "Iy (Corrente de carga)\n",
    "PF (Fator de potência)\n",
    "e (Erro do fator de potência)\n",
    "dIf (Mudança da corrente de excitação da máquina síncrona)\n",
    "If (Corrente de excitação da máquina síncrona)"
   ]
  },
  {
   "cell_type": "code",
   "execution_count": 4,
   "id": "e5854ea7",
   "metadata": {},
   "outputs": [
    {
     "data": {
      "image/png": "[encoded data removed]",
      "text/plain": [
       "<Figure size 1152x576 with 1 Axes>"
      ]
     },
     "metadata": {
      "needs_background": "light"
     },
     "output_type": "display_data"
    }
   ],
   "source": [
    "import matplotlib.pyplot as plt\n",
    "%matplotlib inline\n",
    "plt.figure(figsize = (16,8))\n",
    "plt.scatter(\n",
    "    df['e'], \n",
    "    df['If'], c='red')\n",
    "plt.xlabel(\"e\")\n",
    "plt.ylabel(\"If\")\n",
    "plt.show()"
   ]
  },
  {
   "cell_type": "code",
   "execution_count": null,
   "id": "0285a491",
   "metadata": {},
   "outputs": [],
   "source": [
    "\n"
   ]
  },
  {
   "cell_type": "code",
   "execution_count": 5,
   "id": "d68c3e22",
   "metadata": {
    "scrolled": true
   },
   "outputs": [
    {
     "name": "stdout",
     "output_type": "stream",
     "text": [
      "β0 = 1.2693 e β1 = 1.496\n",
      "\n",
      "O modelo é: If = 1.2693 + 1.496X\n",
      "\n"
     ]
    }
   ],
   "source": [
    "\n",
    "X = df['e'].values.reshape(-1,1)\n",
    "y = df['If'].values.reshape(-1,1)\n",
    "\n",
    "reg = LinearRegression()\n",
    "reg.fit(X, y)\n",
    "\n",
    "#Coeficientes requisitados \n",
    "print(\"β0 = {:.5} e β1 = {:.5}\".format(reg.intercept_[0], reg.coef_[0][0]))\n",
    "print()\n",
    "\n",
    "#Equação do modelo\n",
    "print(\"O modelo é: If = {:.5} + {:.5}X\".format(reg.intercept_[0], reg.coef_[0][0]))\n",
    "print()"
   ]
  },
  {
   "cell_type": "code",
   "execution_count": 6,
   "id": "d2f2e5a6",
   "metadata": {},
   "outputs": [
    {
     "data": {
      "text/plain": [
       "Iy     float64\n",
       "PF     float64\n",
       "e      float64\n",
       "dIf    float64\n",
       "If     float64\n",
       "dtype: object"
      ]
     },
     "execution_count": 6,
     "metadata": {},
     "output_type": "execute_result"
    }
   ],
   "source": [
    "df.dtypes"
   ]
  },
  {
   "cell_type": "code",
   "execution_count": 7,
   "id": "30857b9e",
   "metadata": {},
   "outputs": [
    {
     "data": {
      "image/png": "[encoded data removed]",
      "text/plain": [
       "<Figure size 1152x576 with 1 Axes>"
      ]
     },
     "metadata": {
      "needs_background": "light"
     },
     "output_type": "display_data"
    }
   ],
   "source": [
    "f_previsaoes = reg.predict(X)\n",
    "\n",
    "plt.figure(figsize = (16,8))\n",
    "plt.scatter( df['e'], df['If'], c='red')\n",
    "plt.plot(df['e'],f_previsaoes, c='blue',linewidth=3,linestyle=':')\n",
    "plt.xlabel(\"Erro do fator de potência\")\n",
    "plt.ylabel(\"Corrente de excitação da máquina síncrona\")\n",
    "plt.show()"
   ]
  },
  {
   "cell_type": "code",
   "execution_count": 8,
   "id": "9282d74d",
   "metadata": {},
   "outputs": [
    {
     "name": "stdout",
     "output_type": "stream",
     "text": [
      "                            OLS Regression Results                            \n",
      "==============================================================================\n",
      "Dep. Variable:                     If   R-squared:                       0.741\n",
      "Model:                            OLS   Adj. R-squared:                  0.741\n",
      "Method:                 Least Squares   F-statistic:                     1591.\n",
      "Date:                Tue, 30 Nov 2021   Prob (F-statistic):          4.21e-165\n",
      "Time:                        13:38:39   Log-Likelihood:                 540.15\n",
      "No. Observations:                 557   AIC:                            -1076.\n",
      "Df Residuals:                     555   BIC:                            -1068.\n",
      "Df Model:                           1                                         \n",
      "Covariance Type:            nonrobust                                         \n",
      "==============================================================================\n",
      "                 coef    std err          t      P>|t|      [0.025      0.975]\n",
      "------------------------------------------------------------------------------\n",
      "const          1.2693      0.008    166.514      0.000       1.254       1.284\n",
      "e              1.4960      0.038     39.884      0.000       1.422       1.570\n",
      "==============================================================================\n",
      "Omnibus:                       16.447   Durbin-Watson:                   0.473\n",
      "Prob(Omnibus):                  0.000   Jarque-Bera (JB):                8.754\n",
      "Skew:                           0.088   Prob(JB):                       0.0126\n",
      "Kurtosis:                       2.412   Cond. No.                         9.93\n",
      "==============================================================================\n",
      "\n",
      "Notes:\n",
      "[1] Standard Errors assume that the covariance matrix of the errors is correctly specified.\n"
     ]
    }
   ],
   "source": [
    "X = df['e']\n",
    "y = df['If']\n",
    "X2 = sm.add_constant(X)\n",
    "est = sm.OLS(y, X2)\n",
    "est2 = est.fit()\n",
    "print(est2.summary())"
   ]
  },
  {
   "cell_type": "markdown",
   "id": "35b338b9",
   "metadata": {},
   "source": [
    "R_squad = 0.741\n"
   ]
  },
  {
   "cell_type": "code",
   "execution_count": 42,
   "id": "401d2efb",
   "metadata": {},
   "outputs": [
    {
     "ename": "SyntaxError",
     "evalue": "EOL while scanning string literal (<ipython-input-42-1bfee046ff88>, line 1)",
     "output_type": "error",
     "traceback": [
      "\u001b[1;36m  File \u001b[1;32m\"<ipython-input-42-1bfee046ff88>\"\u001b[1;36m, line \u001b[1;32m1\u001b[0m\n\u001b[1;33m    soma = sum((f_previsaoes - df['If'])**2)/len(df['If])\u001b[0m\n\u001b[1;37m                                                         ^\u001b[0m\n\u001b[1;31mSyntaxError\u001b[0m\u001b[1;31m:\u001b[0m EOL while scanning string literal\n"
     ]
    }
   ],
   "source": [
    "soma = sum((f_previsaoes - df['If'])**2)/len(df['If])"
   ]
  }
 ],
 "metadata": {
  "kernelspec": {
   "display_name": "Python 3",
   "language": "python",
   "name": "python3"
  },
  "language_info": {
   "codemirror_mode": {
    "name": "ipython",
    "version": 3
   },
   "file_extension": ".py",
   "mimetype": "text/x-python",
   "name": "python",
   "nbconvert_exporter": "python",
   "pygments_lexer": "ipython3",
   "version": "3.9.7"
  }
 },
 "nbformat": 4,
 "nbformat_minor": 5
}
