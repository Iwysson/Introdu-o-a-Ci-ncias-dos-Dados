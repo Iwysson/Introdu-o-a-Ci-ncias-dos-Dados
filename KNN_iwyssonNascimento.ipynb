{
  "nbformat": 4,
  "nbformat_minor": 0,
  "metadata": {
    "colab": {
      "name": "KNN-iwyssonNascimento.ipynb",
      "provenance": [],
      "collapsed_sections": []
    },
    "kernelspec": {
      "name": "python3",
      "display_name": "Python 3"
    },
    "language_info": {
      "name": "python"
    }
  },
  "cells": [
    {
      "cell_type": "code",
      "execution_count": 54,
      "metadata": {
        "id": "js8rKx0trwfy"
      },
      "outputs": [],
      "source": [
        "# Imports\n",
        "from sklearn.model_selection import train_test_split\n",
        "import numpy as np\n",
        "import matplotlib.pyplot as plt\n",
        "from sklearn import svm, preprocessing\n",
        "from sklearn.metrics import plot_confusion_matrix, classification_report, mean_squared_error\n",
        "import pandas as pd\n",
        "from sklearn.neighbors import KNeighborsClassifier\n",
        "from kneed import KneeLocator\n",
        "\n",
        "from sklearn.model_selection import train_test_split\n",
        "from sklearn.metrics import mean_squared_error\n",
        "from sklearn.cluster import KMeans\n",
        "from sklearn.neighbors import KNeighborsClassifier\n",
        "from sklearn.decomposition import PCA\n",
        "from sklearn.preprocessing import StandardScaler\n",
        "from sklearn.model_selection import train_test_split\n",
        "from sklearn.metrics import silhouette_score\n",
        "from sklearn.metrics import roc_curve, confusion_matrix\n",
        "from sklearn.metrics import auc\n",
        "\n",
        "np.random.seed(42)\n",
        "\n",
        "\n",
        "%matplotlib inline"
      ]
    },
    {
      "cell_type": "code",
      "source": [
        "#carregar o arquivo csv \n",
        "#por convencao chamamos dataframe de df \n",
        "#df = pd.read_csv('................ , sep =';' , encoding = cp1252) ; separador e enconding , usecols =[...]\n",
        "df = pd.read_csv('drug200.csv', names=['Age','Sex','BP','Cholesterol','Na_to_K','Drug'])\n",
        "df.dtypes"
      ],
      "metadata": {
        "colab": {
          "base_uri": "https://localhost:8080/"
        },
        "id": "uYfGvldurzWT",
        "outputId": "4c9d2df2-b8f0-48b8-fd91-01a92d57ae15"
      },
      "execution_count": 55,
      "outputs": [
        {
          "output_type": "execute_result",
          "data": {
            "text/plain": [
              "Age            object\n",
              "Sex            object\n",
              "BP             object\n",
              "Cholesterol    object\n",
              "Na_to_K        object\n",
              "Drug           object\n",
              "dtype: object"
            ]
          },
          "metadata": {},
          "execution_count": 55
        }
      ]
    },
    {
      "cell_type": "code",
      "source": [
        "df.head()"
      ],
      "metadata": {
        "colab": {
          "base_uri": "https://localhost:8080/",
          "height": 206
        },
        "id": "GUxUprA-r5AD",
        "outputId": "54837adc-4876-4f2e-937f-f446a5e2e51b"
      },
      "execution_count": 56,
      "outputs": [
        {
          "output_type": "execute_result",
          "data": {
            "text/html": [
              "<div>\n",
              "<style scoped>\n",
              "    .dataframe tbody tr th:only-of-type {\n",
              "        vertical-align: middle;\n",
              "    }\n",
              "\n",
              "    .dataframe tbody tr th {\n",
              "        vertical-align: top;\n",
              "    }\n",
              "\n",
              "    .dataframe thead th {\n",
              "        text-align: right;\n",
              "    }\n",
              "</style>\n",
              "<table border=\"1\" class=\"dataframe\">\n",
              "  <thead>\n",
              "    <tr style=\"text-align: right;\">\n",
              "      <th></th>\n",
              "      <th>Age</th>\n",
              "      <th>Sex</th>\n",
              "      <th>BP</th>\n",
              "      <th>Cholesterol</th>\n",
              "      <th>Na_to_K</th>\n",
              "      <th>Drug</th>\n",
              "    </tr>\n",
              "  </thead>\n",
              "  <tbody>\n",
              "    <tr>\n",
              "      <th>0</th>\n",
              "      <td>Age</td>\n",
              "      <td>Sex</td>\n",
              "      <td>BP</td>\n",
              "      <td>Cholesterol</td>\n",
              "      <td>Na_to_K</td>\n",
              "      <td>Drug</td>\n",
              "    </tr>\n",
              "    <tr>\n",
              "      <th>1</th>\n",
              "      <td>23</td>\n",
              "      <td>F</td>\n",
              "      <td>HIGH</td>\n",
              "      <td>HIGH</td>\n",
              "      <td>25.355</td>\n",
              "      <td>DrugY</td>\n",
              "    </tr>\n",
              "    <tr>\n",
              "      <th>2</th>\n",
              "      <td>47</td>\n",
              "      <td>M</td>\n",
              "      <td>LOW</td>\n",
              "      <td>HIGH</td>\n",
              "      <td>13.093</td>\n",
              "      <td>drugC</td>\n",
              "    </tr>\n",
              "    <tr>\n",
              "      <th>3</th>\n",
              "      <td>47</td>\n",
              "      <td>M</td>\n",
              "      <td>LOW</td>\n",
              "      <td>HIGH</td>\n",
              "      <td>10.114</td>\n",
              "      <td>drugC</td>\n",
              "    </tr>\n",
              "    <tr>\n",
              "      <th>4</th>\n",
              "      <td>28</td>\n",
              "      <td>F</td>\n",
              "      <td>NORMAL</td>\n",
              "      <td>HIGH</td>\n",
              "      <td>7.798</td>\n",
              "      <td>drugX</td>\n",
              "    </tr>\n",
              "  </tbody>\n",
              "</table>\n",
              "</div>"
            ],
            "text/plain": [
              "   Age  Sex      BP  Cholesterol  Na_to_K   Drug\n",
              "0  Age  Sex      BP  Cholesterol  Na_to_K   Drug\n",
              "1   23    F    HIGH         HIGH   25.355  DrugY\n",
              "2   47    M     LOW         HIGH   13.093  drugC\n",
              "3   47    M     LOW         HIGH   10.114  drugC\n",
              "4   28    F  NORMAL         HIGH    7.798  drugX"
            ]
          },
          "metadata": {},
          "execution_count": 56
        }
      ]
    },
    {
      "cell_type": "code",
      "source": [
        "df[\"Age\"]=preprocessing.LabelEncoder().fit_transform(df[\"Age\"])\n",
        "df[\"Sex\"]=preprocessing.LabelEncoder().fit_transform(df[\"Sex\"])\n",
        "df[\"BP\"]=preprocessing.LabelEncoder().fit_transform(df[\"BP\"])\n",
        "df[\"Cholesterol\"]=preprocessing.LabelEncoder().fit_transform(df[\"Cholesterol\"])\n",
        "df[\"Na_to_K\"]=preprocessing.LabelEncoder().fit_transform(df[\"Na_to_K\"])\n",
        "df[\"Drug\"]=preprocessing.LabelEncoder().fit_transform(df[\"Drug\"])\n",
        "df.head()"
      ],
      "metadata": {
        "colab": {
          "base_uri": "https://localhost:8080/",
          "height": 206
        },
        "id": "yFb9rE6Cr75S",
        "outputId": "2c4c150d-f6e4-4fea-be1a-9a374ac36f42"
      },
      "execution_count": 57,
      "outputs": [
        {
          "output_type": "execute_result",
          "data": {
            "text/html": [
              "<div>\n",
              "<style scoped>\n",
              "    .dataframe tbody tr th:only-of-type {\n",
              "        vertical-align: middle;\n",
              "    }\n",
              "\n",
              "    .dataframe tbody tr th {\n",
              "        vertical-align: top;\n",
              "    }\n",
              "\n",
              "    .dataframe thead th {\n",
              "        text-align: right;\n",
              "    }\n",
              "</style>\n",
              "<table border=\"1\" class=\"dataframe\">\n",
              "  <thead>\n",
              "    <tr style=\"text-align: right;\">\n",
              "      <th></th>\n",
              "      <th>Age</th>\n",
              "      <th>Sex</th>\n",
              "      <th>BP</th>\n",
              "      <th>Cholesterol</th>\n",
              "      <th>Na_to_K</th>\n",
              "      <th>Drug</th>\n",
              "    </tr>\n",
              "  </thead>\n",
              "  <tbody>\n",
              "    <tr>\n",
              "      <th>0</th>\n",
              "      <td>57</td>\n",
              "      <td>2</td>\n",
              "      <td>0</td>\n",
              "      <td>0</td>\n",
              "      <td>198</td>\n",
              "      <td>0</td>\n",
              "    </tr>\n",
              "    <tr>\n",
              "      <th>1</th>\n",
              "      <td>8</td>\n",
              "      <td>0</td>\n",
              "      <td>1</td>\n",
              "      <td>1</td>\n",
              "      <td>129</td>\n",
              "      <td>1</td>\n",
              "    </tr>\n",
              "    <tr>\n",
              "      <th>2</th>\n",
              "      <td>30</td>\n",
              "      <td>1</td>\n",
              "      <td>2</td>\n",
              "      <td>1</td>\n",
              "      <td>51</td>\n",
              "      <td>4</td>\n",
              "    </tr>\n",
              "    <tr>\n",
              "      <th>3</th>\n",
              "      <td>30</td>\n",
              "      <td>1</td>\n",
              "      <td>2</td>\n",
              "      <td>1</td>\n",
              "      <td>5</td>\n",
              "      <td>4</td>\n",
              "    </tr>\n",
              "    <tr>\n",
              "      <th>4</th>\n",
              "      <td>12</td>\n",
              "      <td>0</td>\n",
              "      <td>3</td>\n",
              "      <td>1</td>\n",
              "      <td>170</td>\n",
              "      <td>5</td>\n",
              "    </tr>\n",
              "  </tbody>\n",
              "</table>\n",
              "</div>"
            ],
            "text/plain": [
              "   Age  Sex  BP  Cholesterol  Na_to_K  Drug\n",
              "0   57    2   0            0      198     0\n",
              "1    8    0   1            1      129     1\n",
              "2   30    1   2            1       51     4\n",
              "3   30    1   2            1        5     4\n",
              "4   12    0   3            1      170     5"
            ]
          },
          "metadata": {},
          "execution_count": 57
        }
      ]
    },
    {
      "cell_type": "code",
      "source": [
        "#Vamos separar os dados entre a variável dependente e independente\n",
        "x = df.drop(['Drug'], axis=1)\n",
        "y = df['Drug']\n",
        "x_train, x_test, y_train, y_test = train_test_split(x, y)"
      ],
      "metadata": {
        "id": "XZE7W-j6sHza"
      },
      "execution_count": 58,
      "outputs": []
    },
    {
      "cell_type": "markdown",
      "source": [
        "# MÉTODO DO COTOVELO"
      ],
      "metadata": {
        "id": "xBnT_Y7b1N35"
      }
    },
    {
      "cell_type": "code",
      "source": [
        "#função para o gráfico de cotovelo\n",
        "def Elbow(k):\n",
        "    test_score = []\n",
        "    \n",
        "    for i in k:\n",
        "        reg = KNeighborsClassifier(n_neighbors = i)\n",
        "        reg.fit(x_train, y_train)\n",
        "        tmp = reg.predict(x_test)\n",
        "        tmp = mean_squared_error(tmp, y_test)\n",
        "        test_score.append(tmp**2)\n",
        "    \n",
        "    return test_score\n",
        "\n",
        "#gerando gráfico utilizando de k=1 até k=40\n",
        "k = range(1, 7)\n",
        "test = Elbow(k)\n",
        "\n",
        "plt.plot(k,test)\n",
        "plt.xlabel(\"K Neighbours\")\n",
        "plt.ylabel(\"Dist**2\")"
      ],
      "metadata": {
        "colab": {
          "base_uri": "https://localhost:8080/",
          "height": 296
        },
        "id": "fcHjLSgpsPGR",
        "outputId": "67f490da-9159-4d74-a1df-bf985c0de6fa"
      },
      "execution_count": 59,
      "outputs": [
        {
          "output_type": "execute_result",
          "data": {
            "text/plain": [
              "Text(0, 0.5, 'Dist**2')"
            ]
          },
          "metadata": {},
          "execution_count": 59
        },
        {
          "output_type": "display_data",
          "data": {
            "image/png": "[encoded data removed]",
            "text/plain": [
              "<Figure size 432x288 with 1 Axes>"
            ]
          },
          "metadata": {
            "needs_background": "light"
          }
        }
      ]
    },
    {
      "cell_type": "markdown",
      "source": [
        "# k ótimo"
      ],
      "metadata": {
        "id": "XopIpYWr1Rpm"
      }
    },
    {
      "cell_type": "code",
      "source": [
        "#k ótimo\n",
        "min = np.min(test)\n",
        "print(test)\n",
        "k_otimo = 0\n",
        "for item in test:\n",
        "  #print(round(item, 2))\n",
        "  if item==min:\n",
        "    k_otimo = k[test.index(item)]\n",
        "\n",
        "print(\"k ótimo: \", k_otimo)"
      ],
      "metadata": {
        "colab": {
          "base_uri": "https://localhost:8080/"
        },
        "id": "kVsXsls-sTvC",
        "outputId": "55d50828-94a6-47a4-85fd-8c5ec0790c4e"
      },
      "execution_count": 60,
      "outputs": [
        {
          "output_type": "stream",
          "name": "stdout",
          "text": [
            "[3.6924259900038447, 4.567858515955401, 7.752402921953094, 5.72241445597847, 3.325259515570934, 6.201076509034987]\n",
            "k ótimo:  5\n"
          ]
        }
      ]
    },
    {
      "cell_type": "code",
      "source": [
        "error = []\n",
        "for i in range(1, 7):  \n",
        "    knn = KNeighborsClassifier(n_neighbors=i)\n",
        "    knn.fit(x_train, y_train)\n",
        "    pred_i = knn.predict(x_test)\n",
        "    error.append(np.mean(pred_i != y_test))"
      ],
      "metadata": {
        "id": "BuiLw259slUk"
      },
      "execution_count": 61,
      "outputs": []
    },
    {
      "cell_type": "code",
      "source": [
        "plt.figure(figsize=(12, 6))  \n",
        "plt.plot(range(1, 7), error, color='red', linestyle='dashed', marker='o',  \n",
        "         markerfacecolor='blue', markersize=10)\n",
        "plt.title('Error Rate K Value')  \n",
        "plt.xlabel('K Value')  \n",
        "plt.ylabel('Mean Error')"
      ],
      "metadata": {
        "colab": {
          "base_uri": "https://localhost:8080/",
          "height": 421
        },
        "id": "AqKkgElltFDZ",
        "outputId": "fb37af35-8b67-42d2-f3bd-7bd31ed2f3aa"
      },
      "execution_count": 62,
      "outputs": [
        {
          "output_type": "execute_result",
          "data": {
            "text/plain": [
              "Text(0, 0.5, 'Mean Error')"
            ]
          },
          "metadata": {},
          "execution_count": 62
        },
        {
          "output_type": "display_data",
          "data": {
            "image/png": "[encoded data removed]",
            "text/plain": [
              "<Figure size 864x432 with 1 Axes>"
            ]
          },
          "metadata": {
            "needs_background": "light"
          }
        }
      ]
    },
    {
      "cell_type": "code",
      "source": [
        "neighbors = np.arange(1, 7)\n",
        "train_accuracy = np.empty(len(neighbors))\n",
        "test_accuracy = np.empty(len(neighbors))\n",
        " \n",
        "# Loop over K values\n",
        "for i, k in enumerate(neighbors):\n",
        "    knn = KNeighborsClassifier(n_neighbors=k)\n",
        "    knn.fit(x_train, y_train)\n",
        "     \n",
        "    # Compute training and test data accuracy\n",
        "    train_accuracy[i] = knn.score(x_train, y_train)\n",
        "    test_accuracy[i] = knn.score(x_test, y_test)\n",
        " \n",
        "# Generate plot\n",
        "plt.plot(neighbors, test_accuracy, label = 'Testing dataset Accuracy')\n",
        "plt.plot(neighbors, train_accuracy, label = 'Training dataset Accuracy')\n",
        " \n",
        "plt.legend()\n",
        "plt.xlabel('n_neighbors')\n",
        "plt.ylabel('Accuracy')\n",
        "plt.show()"
      ],
      "metadata": {
        "colab": {
          "base_uri": "https://localhost:8080/",
          "height": 280
        },
        "id": "tXI-kARttIWG",
        "outputId": "58accca3-4d48-4567-d964-5ce5330986cc"
      },
      "execution_count": 63,
      "outputs": [
        {
          "output_type": "display_data",
          "data": {
            "image/png": "[encoded data removed]",
            "text/plain": [
              "<Figure size 432x288 with 1 Axes>"
            ]
          },
          "metadata": {
            "needs_background": "light"
          }
        }
      ]
    },
    {
      "cell_type": "code",
      "source": [
        "knn = KNeighborsClassifier(n_neighbors=6)\n",
        " \n",
        "knn.fit(x_train, y_train)\n",
        "# Predict on dataset which model has not seen before\n",
        "predictions = knn.predict(x_test)\n",
        "print(predictions-y_test.values)"
      ],
      "metadata": {
        "colab": {
          "base_uri": "https://localhost:8080/"
        },
        "id": "33lL3XQqtMPJ",
        "outputId": "be5d478d-2c7a-432c-d733-3dc2b651d068"
      },
      "execution_count": 64,
      "outputs": [
        {
          "output_type": "stream",
          "name": "stdout",
          "text": [
            "[ 4  0  0  0  0 -3  0  0  0 -1  0 -3  0  0  0  0 -3  2  0 -3  0  0  3  0\n",
            "  2  0  3  3  1  0  0  3  2  0  1  0  0 -1  0  0  3  0  0  0  0  1  0  1\n",
            "  2  2 -2]\n"
          ]
        }
      ]
    },
    {
      "cell_type": "code",
      "source": [
        "print(classification_report(y_test, predictions))"
      ],
      "metadata": {
        "colab": {
          "base_uri": "https://localhost:8080/"
        },
        "id": "bEEJqJ0StPcf",
        "outputId": "1bc70a5d-35b8-4c60-d5f8-239e88e3e0f9"
      },
      "execution_count": 65,
      "outputs": [
        {
          "output_type": "stream",
          "name": "stdout",
          "text": [
            "              precision    recall  f1-score   support\n",
            "\n",
            "           1       0.95      0.95      0.95        21\n",
            "           2       0.20      0.17      0.18         6\n",
            "           3       0.50      0.12      0.20         8\n",
            "           4       0.00      0.00      0.00         4\n",
            "           5       0.33      0.58      0.42        12\n",
            "\n",
            "    accuracy                           0.57        51\n",
            "   macro avg       0.40      0.37      0.35        51\n",
            "weighted avg       0.57      0.57      0.54        51\n",
            "\n"
          ]
        }
      ]
    },
    {
      "cell_type": "code",
      "source": [
        "#criando classificador com kernel polinomial, foi o que apresentou menos erro para o conjunto de dados\n",
        "clf = svm.SVC(kernel='poly')\n",
        "\n",
        "#Encontrando o modelo ajustado aos daods\n",
        "clf = clf.fit(x_train, y_train)"
      ],
      "metadata": {
        "id": "ogYa2q6_tS9I"
      },
      "execution_count": 66,
      "outputs": []
    },
    {
      "cell_type": "code",
      "source": [
        "#Predizendo\n",
        "predictions = clf.predict(x_test)\n",
        "\n",
        "#Printando a diferença entre o dado predito e os dados de teste, caso dê 0 significa que foi correta a predição, caso dê 1 ou -1 significa que foi errada a predição\n",
        "print(predictions-y_test.values)"
      ],
      "metadata": {
        "colab": {
          "base_uri": "https://localhost:8080/"
        },
        "id": "Pr4RwZZLtXL4",
        "outputId": "cc6a5fe3-d716-40f1-80c7-ebde636cf452"
      },
      "execution_count": 67,
      "outputs": [
        {
          "output_type": "stream",
          "name": "stdout",
          "text": [
            "[ 0 -4  0  0 -4 -4  0 -4 -1 -4  0 -4  0  0 -3  0 -3 -2 -4 -4  0  0 -1  0\n",
            " -2  0 -1 -1 -2  0  0 -1 -2  0 -3 -4  0 -2  0  0 -1 -4 -4  0  0 -3  0 -3\n",
            " -2 -2 -4]\n"
          ]
        }
      ]
    },
    {
      "cell_type": "code",
      "source": [
        "print(classification_report(y_test, predictions))"
      ],
      "metadata": {
        "colab": {
          "base_uri": "https://localhost:8080/"
        },
        "id": "4VViaC9Rtakf",
        "outputId": "6dbb513c-62d5-4105-eadd-c5f0858fc3fa"
      },
      "execution_count": 68,
      "outputs": [
        {
          "output_type": "stream",
          "name": "stdout",
          "text": [
            "              precision    recall  f1-score   support\n",
            "\n",
            "           0       0.00      0.00      0.00         0\n",
            "           1       0.42      1.00      0.59        21\n",
            "           2       0.00      0.00      0.00         6\n",
            "           3       0.00      0.00      0.00         8\n",
            "           4       0.00      0.00      0.00         4\n",
            "           5       0.00      0.00      0.00        12\n",
            "\n",
            "    accuracy                           0.41        51\n",
            "   macro avg       0.07      0.17      0.10        51\n",
            "weighted avg       0.17      0.41      0.24        51\n",
            "\n"
          ]
        },
        {
          "output_type": "stream",
          "name": "stderr",
          "text": [
            "/usr/local/lib/python3.7/dist-packages/sklearn/metrics/_classification.py:1308: UndefinedMetricWarning: Precision and F-score are ill-defined and being set to 0.0 in labels with no predicted samples. Use `zero_division` parameter to control this behavior.\n",
            "  _warn_prf(average, modifier, msg_start, len(result))\n",
            "/usr/local/lib/python3.7/dist-packages/sklearn/metrics/_classification.py:1308: UndefinedMetricWarning: Recall and F-score are ill-defined and being set to 0.0 in labels with no true samples. Use `zero_division` parameter to control this behavior.\n",
            "  _warn_prf(average, modifier, msg_start, len(result))\n",
            "/usr/local/lib/python3.7/dist-packages/sklearn/metrics/_classification.py:1308: UndefinedMetricWarning: Precision and F-score are ill-defined and being set to 0.0 in labels with no predicted samples. Use `zero_division` parameter to control this behavior.\n",
            "  _warn_prf(average, modifier, msg_start, len(result))\n",
            "/usr/local/lib/python3.7/dist-packages/sklearn/metrics/_classification.py:1308: UndefinedMetricWarning: Recall and F-score are ill-defined and being set to 0.0 in labels with no true samples. Use `zero_division` parameter to control this behavior.\n",
            "  _warn_prf(average, modifier, msg_start, len(result))\n",
            "/usr/local/lib/python3.7/dist-packages/sklearn/metrics/_classification.py:1308: UndefinedMetricWarning: Precision and F-score are ill-defined and being set to 0.0 in labels with no predicted samples. Use `zero_division` parameter to control this behavior.\n",
            "  _warn_prf(average, modifier, msg_start, len(result))\n",
            "/usr/local/lib/python3.7/dist-packages/sklearn/metrics/_classification.py:1308: UndefinedMetricWarning: Recall and F-score are ill-defined and being set to 0.0 in labels with no true samples. Use `zero_division` parameter to control this behavior.\n",
            "  _warn_prf(average, modifier, msg_start, len(result))\n"
          ]
        }
      ]
    }
  ]
}